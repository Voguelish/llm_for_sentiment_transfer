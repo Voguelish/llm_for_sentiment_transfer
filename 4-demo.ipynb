{
 "cells": [
  {
   "cell_type": "code",
   "execution_count": 1,
   "metadata": {},
   "outputs": [
    {
     "name": "stderr",
     "output_type": "stream",
     "text": [
      "c:\\Users\\adzka\\anaconda3\\Lib\\site-packages\\transformers\\utils\\hub.py:124: FutureWarning: Using `TRANSFORMERS_CACHE` is deprecated and will be removed in v5 of Transformers. Use `HF_HOME` instead.\n",
      "  warnings.warn(\n"
     ]
    }
   ],
   "source": [
    "from transformers import AutoModelForCausalLM, AutoTokenizer\n",
    "import torch"
   ]
  },
  {
   "cell_type": "code",
   "execution_count": 2,
   "metadata": {},
   "outputs": [
    {
     "name": "stderr",
     "output_type": "stream",
     "text": [
      "A new version of the following files was downloaded from https://huggingface.co/aisingapore/sea-lion-7b-instruct:\n",
      "- tokenization_SEA_BPE.py\n",
      ". Make sure to double-check they do not contain any added malicious code. To avoid downloading new versions of the code file, you can pin a revision.\n",
      "A new version of the following files was downloaded from https://huggingface.co/aisingapore/sea-lion-7b-instruct:\n",
      "- configuration_mpt.py\n",
      ". Make sure to double-check they do not contain any added malicious code. To avoid downloading new versions of the code file, you can pin a revision.\n",
      "A new version of the following files was downloaded from https://huggingface.co/aisingapore/sea-lion-7b-instruct:\n",
      "- modeling_mpt.py\n",
      ". Make sure to double-check they do not contain any added malicious code. To avoid downloading new versions of the code file, you can pin a revision.\n",
      "The `load_in_4bit` and `load_in_8bit` arguments are deprecated and will be removed in the future versions. Please, pass a `BitsAndBytesConfig` object in `quantization_config` argument instead.\n"
     ]
    },
    {
     "data": {
      "application/vnd.jupyter.widget-view+json": {
       "model_id": "f47019c0c7c848a39c4c07a68fe4618c",
       "version_major": 2,
       "version_minor": 0
      },
      "text/plain": [
       "Downloading shards:   0%|          | 0/4 [00:00<?, ?it/s]"
      ]
     },
     "metadata": {},
     "output_type": "display_data"
    },
    {
     "name": "stderr",
     "output_type": "stream",
     "text": [
      "The model weights are not tied. Please use the `tie_weights` method before using the `infer_auto_device` function.\n"
     ]
    },
    {
     "data": {
      "application/vnd.jupyter.widget-view+json": {
       "model_id": "c05e2587bd1540949b9ba1140966fb55",
       "version_major": 2,
       "version_minor": 0
      },
      "text/plain": [
       "Loading checkpoint shards:   0%|          | 0/4 [00:00<?, ?it/s]"
      ]
     },
     "metadata": {},
     "output_type": "display_data"
    }
   ],
   "source": [
    "model_id = \"aisingapore/sea-lion-7b-instruct\"\n",
    "tokenizer = AutoTokenizer.from_pretrained(model_id, trust_remote_code=True)\n",
    "if tokenizer.pad_token is None:\n",
    "  tokenizer.pad_token = tokenizer.eos_token\n",
    "\n",
    "model = AutoModelForCausalLM.from_pretrained(model_id, device_map=\"auto\", trust_remote_code=True, load_in_4bit=True, bnb_4bit_compute_dtype=torch.float16)"
   ]
  },
  {
   "cell_type": "markdown",
   "metadata": {},
   "source": [
    "Sentimen Positif\n",
    "- \"Hari ini cuaca sangat cerah, dan itu membuat perjalanan ke kantor terasa menyenangkan.\"\n",
    "- \"Saya baru saja menerima umpan balik yang sangat positif dari klien saya, dan itu memberi saya semangat baru.\"\n",
    "- \"Makanan di restoran baru yang saya coba benar-benar lezat, dan pelayanan mereka sangat ramah.\"\n",
    "- \"Saya baru saja menyelesaikan proyek besar di tempat kerja, dan rekan-rekan saya memberi pujian atas kerja keras saya.\"\n",
    "- \"Liburan akhir pekan ini benar-benar menyegarkan, dan saya merasa siap untuk menghadapi minggu depan.\"\n",
    "\n",
    "Sentimen Negatif\n",
    "- \"Saya mengalami kemacetan parah di jalan menuju kantor, dan itu membuat saya terlambat untuk pertemuan penting.\"\n",
    "- \"Saya mendapatkan ulasan negatif dari atasan saya yang membuat saya merasa sangat kecewa dan kurang percaya diri.\"\n",
    "- \"Makanan di restoran yang saya kunjungi ternyata tidak sesuai dengan harapan, dan pelayanannya juga sangat lambat.\"\n",
    "- \"Proyek yang saya kerjakan mengalami banyak kendala, dan rekan-rekan saya mengeluhkan hasilnya.\"\n",
    "- \"Cuaca panas terus-menerus membuat akhir pekan ini menjadi sangat malas melakukan apapun dan tidak menyenangkan.\""
   ]
  },
  {
   "cell_type": "code",
   "execution_count": 7,
   "metadata": {},
   "outputs": [
    {
     "name": "stdout",
     "output_type": "stream",
     "text": [
      "### USER: Ubah sentimen dari kalimat awal berikut menjadi sentimen sebaliknya\n",
      "Kalimat Awal: Cuaca panas terus-menerus membuat akhir pekan ini menjadi sangat malas melakukan apapun dan tidak menyenangkan.\n",
      "Kalimat Baru:\n",
      "\n",
      "### RESPONSE:\n",
      "Negatif\n"
     ]
    }
   ],
   "source": [
    "text = \"Cuaca panas terus-menerus membuat akhir pekan ini menjadi sangat malas melakukan apapun dan tidak menyenangkan.\"\n",
    "\n",
    "prompt_template = \"\"\"### USER: Ubah sentimen dari kalimat awal berikut menjadi sentimen sebaliknya\n",
    "Kalimat Awal: {text}\n",
    "Kalimat Baru:\n",
    "\n",
    "### RESPONSE:\n",
    "\"\"\"\n",
    "\n",
    "full_prompt = prompt_template.format(text=text)\n",
    "\n",
    "tokens = tokenizer(full_prompt, return_tensors=\"pt\")\n",
    "output = model.generate(input_ids=tokens[\"input_ids\"], max_new_tokens=30, eos_token_id=tokenizer.eos_token_id, pad_token_id=tokenizer.pad_token_id, num_return_sequences=1)\n",
    "response = tokenizer.decode(output[0], skip_special_tokens=True)\n",
    "print(response)"
   ]
  }
 ],
 "metadata": {
  "kernelspec": {
   "display_name": "base",
   "language": "python",
   "name": "python3"
  },
  "language_info": {
   "codemirror_mode": {
    "name": "ipython",
    "version": 3
   },
   "file_extension": ".py",
   "mimetype": "text/x-python",
   "name": "python",
   "nbconvert_exporter": "python",
   "pygments_lexer": "ipython3",
   "version": "3.11.5"
  }
 },
 "nbformat": 4,
 "nbformat_minor": 2
}
